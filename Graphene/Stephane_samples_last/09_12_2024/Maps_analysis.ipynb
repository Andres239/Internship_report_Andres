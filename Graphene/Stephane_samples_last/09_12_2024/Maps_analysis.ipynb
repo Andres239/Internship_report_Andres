{
 "cells": [
  {
   "cell_type": "code",
   "execution_count": 1,
   "metadata": {},
   "outputs": [],
   "source": [
    "import numpy as np\n",
    "import matplotlib.pyplot as plt\n",
    "import sys\n",
    "sys.path.append('../../')\n",
    "import RamanGraphene as rg"
   ]
  },
  {
   "cell_type": "code",
   "execution_count": 2,
   "metadata": {},
   "outputs": [],
   "source": [
    "x_axis_nm = np.loadtxt('../11_12_2024/calibrated_axis_300gr.dat')\n",
    "x_axis_raman = rg.convert_nm_to_raman(x_axis_nm, 632.8)\n",
    "\n",
    "df = rg.get_map_data('Flake_1/LRVI_H12P1_1-4__2024-12-09_17-25-27_tot.dat')\n",
    "noise, data = rg.separate_data_noise(df)\n",
    "data = data - noise"
   ]
  },
  {
   "cell_type": "code",
   "execution_count": 3,
   "metadata": {},
   "outputs": [
    {
     "name": "stdout",
     "output_type": "stream",
     "text": [
      "(578, 12, 11)\n"
     ]
    }
   ],
   "source": [
    "map_size = (12,11)\n",
    "x_range, data_range, the_map = rg.make_map(x_axis_raman, data, map_size, 1400,2800)\n",
    "data_matrix = np.reshape(data_range, (len(x_range), map_size[0], map_size[1]))\n",
    "print(np.shape(data_matrix))\n"
   ]
  },
  {
   "cell_type": "code",
   "execution_count": 29,
   "metadata": {},
   "outputs": [],
   "source": [
    "%matplotlib qt\n",
    "# Inverted positions compared to the clickable map script\n",
    "plt.plot(x_range, data_matrix[:,7,5], label='Suspended region')\n",
    "#plt.plot(x_range, data_matrix[:,10,9], label='Supported region')\n",
    "plt.xlabel('Raman shift (cm$^{-1}$)', fontsize=15)\n",
    "plt.ylabel('Intensity (a.u.)', fontsize=15)\n",
    "plt.ylim(-300, 11000)\n",
    "\n",
    "# Set the x-axis limits to suppress the region between 1800 and 2100\n",
    "#plt.xlim(1800, 2100)\n",
    "\n",
    "plt.legend(fontsize=15, loc='upper left')\n",
    "plt.show()\n",
    "#plt.xlim(1400, 1800)\n",
    "#plt.xticks([1400, 1500, 1600, 1700, 2100, 2200, 2300, 2400, 2500, 2600, 2700, 2800])"
   ]
  },
  {
   "cell_type": "code",
   "execution_count": 90,
   "metadata": {},
   "outputs": [],
   "source": [
    "#Breaking the x-axis. To be continued...\n",
    "%matplotlib qt\n",
    "\n",
    "#Some constants\n",
    "start_break, end_break = 1700, 2300\n",
    "x_factor = 3\n",
    "pos_G, pos_2D = 1581, 2633\n",
    "\n",
    "\n",
    "fig, ax = plt.subplots(1, 2, sharey=True, figsize=(6,4), gridspec_kw={'width_ratios': [1, 1], 'wspace': 0.05})\n",
    "\n",
    "ax[0].plot(x_range[x_range < start_break], data_matrix[:,7,5][x_range < start_break], label='Suspended region', color = 'b')\n",
    "ax[1].plot(x_range[x_range > end_break], data_matrix[:,7,5][x_range > end_break], color = 'b')\n",
    "\n",
    "ax[0].plot(x_range[x_range < start_break], data_matrix[:, 10, 9][x_range < start_break] * x_factor, label=f'x{x_factor} Supported region', color = 'r')\n",
    "ax[1].plot(x_range[x_range > end_break], data_matrix[:, 10, 9][x_range > end_break] * x_factor, color = 'r')\n",
    "\n",
    "\n",
    "# Break indicators\n",
    "ax[0].spines['right'].set_visible(False)\n",
    "ax[1].spines['left'].set_visible(False)\n",
    "\n",
    "# Add diagonal lines to indicate the break\n",
    "d = 0.015\n",
    "\n",
    "kwargs = dict(transform=ax[0].transAxes, color='k', clip_on=False)\n",
    "ax[0].plot((1 - d, 1 + d), (-d, +d), **kwargs)\n",
    "ax[0].plot((1 - d, 1 + d), (1 - d, 1 + d), **kwargs)\n",
    "\n",
    "kwargs = dict(transform=ax[1].transAxes, color='k', clip_on=False)\n",
    "ax[1].plot((-d, +d), (-d, +d), **kwargs)\n",
    "ax[1].plot((-d, +d), (1 - d, 1 + d), **kwargs)\n",
    "\n",
    "ax[0].axvline(start_break, color='k', linestyle=':')\n",
    "ax[1].axvline(end_break, color='k', linestyle=':')\n",
    "\n",
    "#Indicate G and 2D peaks\n",
    "ax[0].axvline(x=pos_G, color='gray', linestyle='--')\n",
    "ax[1].axvline(x=pos_2D, color='gray', linestyle='--')\n",
    "\n",
    "ax[0].text(pos_G, ax[0].get_ylim()[1]*1.02, 'G', ha='center', va='bottom', color='black', fontsize=15)\n",
    "ax[1].text(pos_2D, ax[0].get_ylim()[1]*1.02, '2D', ha='center', va='bottom', color='black', fontsize=15)\n",
    "\n",
    "# Labels and formatting\n",
    "fig.text(0.5, 0.01, \"Raman shift (cm⁻¹)\", ha='center', fontsize = 15)\n",
    "ax[0].set_ylabel(\"Intensity (a.u)\", fontsize = 15)\n",
    "\n",
    "ax[0].set_xlim(min(x_range), start_break)\n",
    "ax[1].set_xlim(end_break, max(x_range))\n",
    "ax[0].set_xticks([1500, 1600])\n",
    "ax[1].set_xticks([2400, 2500, 2600, 2700])\n",
    "\n",
    "ax[1].tick_params(left=False) \n",
    "fig.legend(fontsize=14, loc='upper center', bbox_to_anchor=(0.375, 0.85), ncol=1, frameon=True)\n",
    "\n",
    "plt.savefig('../../Figures/Comparison_suspended_supported.pdf')    \n",
    "plt.show()"
   ]
  }
 ],
 "metadata": {
  "kernelspec": {
   "display_name": "TdG",
   "language": "python",
   "name": "python3"
  },
  "language_info": {
   "codemirror_mode": {
    "name": "ipython",
    "version": 3
   },
   "file_extension": ".py",
   "mimetype": "text/x-python",
   "name": "python",
   "nbconvert_exporter": "python",
   "pygments_lexer": "ipython3",
   "version": "3.12.2"
  }
 },
 "nbformat": 4,
 "nbformat_minor": 2
}
