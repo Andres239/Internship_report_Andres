{
 "cells": [
  {
   "cell_type": "code",
   "execution_count": 1,
   "metadata": {},
   "outputs": [],
   "source": [
    "import numpy as np\n",
    "import matplotlib.pyplot as plt\n",
    "import sys\n",
    "sys.path.append('../../')\n",
    "import RamanGraphene as rg\n"
   ]
  },
  {
   "cell_type": "code",
   "execution_count": 2,
   "metadata": {},
   "outputs": [],
   "source": [
    "x_axis_300_g = np.loadtxt('calibrated_axis_300gr.dat')\n",
    "\n",
    "lambda_laser = 632.8\n",
    "x_axis_300_g_raman = rg.convert_nm_to_raman(x_axis_300_g, lambda_laser)\n",
    "\n",
    "reference_flake_1 = np.loadtxt('Raman_suspended_graphene_sample_6_633nm_1mW_300gr_mm_RT_300s_flake_1_1.dat')[:,1]\n",
    "map_flake_1 = rg.get_map_data('../09_12_2024/Flake_1/LRVI_H12P1_1-4__2024-12-09_17-25-27_tot.dat')\n",
    "\n",
    "reference_flake_2 = np.loadtxt('Raman_suspended_graphene_sample_6_633nm_1mW_300gr_mm_RT_300s_flake_2_1.dat')[:,1]\n",
    "map_flake_2 = rg.get_map_data('../09_12_2024/Flake_2/LRVI_H12P1_1-4_map2_2024-12-09_19-51-12_tot.dat')\n"
   ]
  },
  {
   "cell_type": "code",
   "execution_count": 3,
   "metadata": {},
   "outputs": [],
   "source": [
    "%matplotlib qt\n",
    "\n",
    "# Visualize raw data\n",
    "plt.plot(x_axis_300_g_raman, reference_flake_1)\n",
    "plt.xlabel('Raman shift (cm^-1)')\n",
    "plt.ylabel('Intensity (a.u.)')\n",
    "plt.title('Raman spectrum of suspended graphene sample 6, flake 1')\n",
    "\n",
    "plt.show()"
   ]
  },
  {
   "cell_type": "code",
   "execution_count": 4,
   "metadata": {},
   "outputs": [],
   "source": [
    "#This cell is to make a file that can be used with the matlab script \n",
    "\n",
    "ones_column = np.ones_like(x_axis_300_g_raman)\n",
    "data_to_save = np.column_stack((x_axis_300_g_raman, ones_column, reference_flake_2))\n",
    "\n",
    "# Save the data to a text file\n",
    "np.savetxt('Reference_sample_6_flake_2.txt', data_to_save, fmt='%.6e', delimiter='\\t')"
   ]
  },
  {
   "cell_type": "code",
   "execution_count": 4,
   "metadata": {},
   "outputs": [
    {
     "ename": "RuntimeError",
     "evalue": "Optimal parameters not found: Number of calls to function has reached maxfev = 1400.",
     "output_type": "error",
     "traceback": [
      "\u001b[0;31m---------------------------------------------------------------------------\u001b[0m",
      "\u001b[0;31mRuntimeError\u001b[0m                              Traceback (most recent call last)",
      "Cell \u001b[0;32mIn[4], line 14\u001b[0m\n\u001b[1;32m     11\u001b[0m x_ROI \u001b[38;5;241m=\u001b[39m x_axis_300_g_raman[(x_axis_300_g_raman \u001b[38;5;241m>\u001b[39m x_min) \u001b[38;5;241m&\u001b[39m (x_axis_300_g_raman \u001b[38;5;241m<\u001b[39m x_max)]\n\u001b[1;32m     12\u001b[0m y_ROI \u001b[38;5;241m=\u001b[39m reference_flake_1[(x_axis_300_g_raman \u001b[38;5;241m>\u001b[39m x_min) \u001b[38;5;241m&\u001b[39m (x_axis_300_g_raman \u001b[38;5;241m<\u001b[39m x_max)]\n\u001b[0;32m---> 14\u001b[0m results_G, results_2D, params1 \u001b[38;5;241m=\u001b[39m \u001b[43mrg\u001b[49m\u001b[38;5;241;43m.\u001b[39;49m\u001b[43mraman_Gr_fit\u001b[49m\u001b[43m(\u001b[49m\u001b[43mx_ROI\u001b[49m\u001b[43m,\u001b[49m\u001b[43m \u001b[49m\u001b[43my_ROI\u001b[49m\u001b[43m,\u001b[49m\u001b[43m \u001b[49m\u001b[43momega_G\u001b[49m\u001b[43m,\u001b[49m\u001b[43m \u001b[49m\u001b[43momega_2D\u001b[49m\u001b[43m)\u001b[49m\n\u001b[1;32m     15\u001b[0m \u001b[38;5;66;03m#rg.plot_raman_fit(results_G, results_2D, params1, x_ROI, y_ROI, 'Raman spectrum of suspended graphene sample 6, flake 1', omega_G, omega_2D)\u001b[39;00m\n",
      "File \u001b[0;32m~/Internship_report_Andres/Graphene/Stephane_samples_last/11_12_2024/../../RamanGraphene.py:98\u001b[0m, in \u001b[0;36mraman_Gr_fit\u001b[0;34m(x_data, y_data, omegaG, omega2D, n)\u001b[0m\n\u001b[1;32m     96\u001b[0m \u001b[38;5;66;03m#Fitting the data\u001b[39;00m\n\u001b[1;32m     97\u001b[0m popt_Lorentz, pcov_Lorentz \u001b[38;5;241m=\u001b[39m curve_fit(lorentzian, xG, yG, p0_G)\n\u001b[0;32m---> 98\u001b[0m popt_DB_Basko, pcov_DB_Basko \u001b[38;5;241m=\u001b[39m \u001b[43mcurve_fit\u001b[49m\u001b[43m(\u001b[49m\u001b[43mdb_basko\u001b[49m\u001b[43m,\u001b[49m\u001b[43m \u001b[49m\u001b[43mx2D\u001b[49m\u001b[43m,\u001b[49m\u001b[43m \u001b[49m\u001b[43my2D\u001b[49m\u001b[43m,\u001b[49m\u001b[43m \u001b[49m\u001b[43mp0_2D\u001b[49m\u001b[43m)\u001b[49m\n\u001b[1;32m    100\u001b[0m \u001b[38;5;66;03m#Calculating the error\u001b[39;00m\n\u001b[1;32m    102\u001b[0m perr_Lorentz \u001b[38;5;241m=\u001b[39m np\u001b[38;5;241m.\u001b[39msqrt(np\u001b[38;5;241m.\u001b[39mdiag(pcov_Lorentz))\n",
      "File \u001b[0;32m~/anaconda3/envs/Personal/lib/python3.12/site-packages/scipy/optimize/_minpack_py.py:1005\u001b[0m, in \u001b[0;36mcurve_fit\u001b[0;34m(f, xdata, ydata, p0, sigma, absolute_sigma, check_finite, bounds, method, jac, full_output, nan_policy, **kwargs)\u001b[0m\n\u001b[1;32m   1003\u001b[0m     cost \u001b[38;5;241m=\u001b[39m np\u001b[38;5;241m.\u001b[39msum(infodict[\u001b[38;5;124m'\u001b[39m\u001b[38;5;124mfvec\u001b[39m\u001b[38;5;124m'\u001b[39m] \u001b[38;5;241m*\u001b[39m\u001b[38;5;241m*\u001b[39m \u001b[38;5;241m2\u001b[39m)\n\u001b[1;32m   1004\u001b[0m     \u001b[38;5;28;01mif\u001b[39;00m ier \u001b[38;5;129;01mnot\u001b[39;00m \u001b[38;5;129;01min\u001b[39;00m [\u001b[38;5;241m1\u001b[39m, \u001b[38;5;241m2\u001b[39m, \u001b[38;5;241m3\u001b[39m, \u001b[38;5;241m4\u001b[39m]:\n\u001b[0;32m-> 1005\u001b[0m         \u001b[38;5;28;01mraise\u001b[39;00m \u001b[38;5;167;01mRuntimeError\u001b[39;00m(\u001b[38;5;124m\"\u001b[39m\u001b[38;5;124mOptimal parameters not found: \u001b[39m\u001b[38;5;124m\"\u001b[39m \u001b[38;5;241m+\u001b[39m errmsg)\n\u001b[1;32m   1006\u001b[0m \u001b[38;5;28;01melse\u001b[39;00m:\n\u001b[1;32m   1007\u001b[0m     \u001b[38;5;66;03m# Rename maxfev (leastsq) to max_nfev (least_squares), if specified.\u001b[39;00m\n\u001b[1;32m   1008\u001b[0m     \u001b[38;5;28;01mif\u001b[39;00m \u001b[38;5;124m'\u001b[39m\u001b[38;5;124mmax_nfev\u001b[39m\u001b[38;5;124m'\u001b[39m \u001b[38;5;129;01mnot\u001b[39;00m \u001b[38;5;129;01min\u001b[39;00m kwargs:\n",
      "\u001b[0;31mRuntimeError\u001b[0m: Optimal parameters not found: Number of calls to function has reached maxfev = 1400."
     ]
    }
   ],
   "source": [
    "%matplotlib qt\n",
    "#Fit for the reference spectrum of sample 6, flake 1\n",
    "\n",
    "omega_G = 1581\n",
    "omega_2D = 2630\n",
    "\n",
    "x_min = 1400\n",
    "x_max = 1850\n",
    "\n",
    "\n",
    "x_ROI = x_axis_300_g_raman[(x_axis_300_g_raman > x_min) & (x_axis_300_g_raman < x_max)]\n",
    "y_ROI = reference_flake_1[(x_axis_300_g_raman > x_min) & (x_axis_300_g_raman < x_max)]\n",
    "\n",
    "results_G, results_2D, params1 = rg.raman_Gr_fit(x_ROI, y_ROI, omega_G, omega_2D)\n",
    "#rg.plot_raman_fit(results_G, results_2D, params1, x_ROI, y_ROI, 'Raman spectrum of suspended graphene sample 6, flake 1', omega_G, omega_2D)"
   ]
  },
  {
   "cell_type": "code",
   "execution_count": 4,
   "metadata": {},
   "outputs": [
    {
     "name": "stdout",
     "output_type": "stream",
     "text": [
      "G peak: \n",
      " off_G = -108.378 ± 11.800 \n",
      " ω_G = 1582.168 ± 0.053 cm⁻¹ \n",
      " Γ_G = 14.749 ± 0.174 cm⁻¹ \n",
      " I_G = 148145.545 ± 1435.341\n",
      "2D peak: \n",
      " off_2D = -30.308 ± 16.960 \n",
      " ω_2D- = 2632.598 ± 0.060 cm⁻¹, ω_2D+ = 2645.616 ± 0.060 cm⁻¹ \n",
      " Γ_2D = 20.940 ± 0.104 cm⁻¹ \n",
      " I_2D = 1135942.034 ± 2708.461 \n",
      " I_2D-/I_2D+ = 2.381 ± 0.005\n"
     ]
    }
   ],
   "source": [
    "rg.print_fit_results(params1, 3)"
   ]
  },
  {
   "cell_type": "code",
   "execution_count": 5,
   "metadata": {},
   "outputs": [
    {
     "name": "stdout",
     "output_type": "stream",
     "text": [
      "Clicked at coordinates: (7.66, 5.39)\n",
      "Clicked at indices: (8, 5)\n"
     ]
    }
   ],
   "source": [
    "#Draw the Raman map of sample 6, flake 1\n",
    "\n",
    "omega_G = 1581\n",
    "omega_2D = 2630\n",
    "\n",
    "x_min = 1500\n",
    "x_max = 2800\n",
    "\n",
    "\n",
    "noise, signal = rg.separate_data_noise(map_flake_2)\n",
    "data_map = signal \n",
    "map_size = (15,15)\n",
    "_,_, the_map = rg.make_map(x_axis_300_g_raman, data_map, map_size, x_min, x_max)\n",
    "\n",
    "data_map = data_map / np.max(the_map)\n",
    "\n",
    "plt.rcParams.update({'font.size': 16})\n",
    "rg.draw_map(x_axis_300_g_raman, data_map, map_size, x_min, x_max, '',omega_G, omega_2D)\n",
    "plt.tight_layout()"
   ]
  },
  {
   "cell_type": "code",
   "execution_count": 17,
   "metadata": {},
   "outputs": [
    {
     "name": "stderr",
     "output_type": "stream",
     "text": [
      "<>:15: SyntaxWarning: invalid escape sequence '\\m'\n",
      "<>:16: SyntaxWarning: invalid escape sequence '\\m'\n",
      "<>:15: SyntaxWarning: invalid escape sequence '\\m'\n",
      "<>:16: SyntaxWarning: invalid escape sequence '\\m'\n",
      "/tmp/ipykernel_43395/1888340160.py:15: SyntaxWarning: invalid escape sequence '\\m'\n",
      "  plt.xlabel(f'$\\mu$m')\n",
      "/tmp/ipykernel_43395/1888340160.py:16: SyntaxWarning: invalid escape sequence '\\m'\n",
      "  plt.ylabel(f'$\\mu$m')\n"
     ]
    }
   ],
   "source": [
    "x_min_G = 1520\n",
    "x_max_G = 1650\n",
    "\n",
    "x_min_2D = 2550\n",
    "x_max_2D = 2800\n",
    "\n",
    "_,_,the_map_G = rg.make_map(x_axis_300_g_raman, data_map, map_size, x_min_G, x_max_G)\n",
    "_,_,the_map_2D = rg.make_map(x_axis_300_g_raman, data_map, map_size, x_min_2D, x_max_2D)\n",
    "\n",
    "relative_map = the_map_2D / the_map_G\n",
    "relative_map[4,8] = np.mean((relative_map[5,8], relative_map[4,7])) #There is a huge spike in that spot\n",
    "relative_map = relative_map / np.max(relative_map)\n",
    "plt.figure()\n",
    "plt.imshow(relative_map, interpolation='nearest', cmap=plt.cm.jet)\n",
    "plt.xlabel(f'$\\mu$m')\n",
    "plt.ylabel(f'$\\mu$m')\n",
    "plt.colorbar(label = 'Integrated intensity (a.u.)')\n",
    "plt.tight_layout()\n",
    "plt.show()"
   ]
  },
  {
   "cell_type": "code",
   "execution_count": null,
   "metadata": {},
   "outputs": [
    {
     "name": "stdout",
     "output_type": "stream",
     "text": [
      "15.880215515832893\n"
     ]
    }
   ],
   "source": []
  },
  {
   "cell_type": "code",
   "execution_count": 23,
   "metadata": {},
   "outputs": [],
   "source": [
    "#Fit for the reference spectra of G peak\n",
    "\n",
    "x_G_peak = np.loadtxt('calibrated_axis_900gr_center_at_700nm.dat')\n",
    "x_G_peak = rg.convert_nm_to_raman(x_G_peak, lambda_laser)\n",
    "\n",
    "y_G_peak_flake2 = np.loadtxt('Raman_suspended_graphene_sample_6_633nm_1mW_900gr_mm_RT_600s_flake_1_center_at_700nm_1.dat')[:,1]"
   ]
  },
  {
   "cell_type": "code",
   "execution_count": 24,
   "metadata": {},
   "outputs": [],
   "source": [
    "#Plot raw data for G peak\n",
    "\n",
    "plt.plot(x_G_peak, y_G_peak_flake2)\n",
    "plt.xlabel('Raman shift (cm^-1)')\n",
    "plt.ylabel('Intensity (a.u.)')\n",
    "plt.title('Raman spectrum of suspended graphene sample 6, flake 2, G peak')\n",
    "plt.show()"
   ]
  },
  {
   "cell_type": "code",
   "execution_count": 25,
   "metadata": {},
   "outputs": [],
   "source": [
    "results_G_peak, garbage, params2 = rg.raman_Gr_fit(x_G_peak, y_G_peak_flake2, omega_G, 1900)\n",
    "rg.plot_raman_fit(results_G_peak, garbage, params2, x_G_peak, y_G_peak_flake2, 'Raman spectrum of suspended graphene sample 6, flake 2, G peak', omega_G, 1900)"
   ]
  },
  {
   "cell_type": "code",
   "execution_count": 26,
   "metadata": {},
   "outputs": [
    {
     "name": "stdout",
     "output_type": "stream",
     "text": [
      "\n",
      " G peak offset: -63.65 \n",
      " G peak position: 1582.14 cm^(-1)\n",
      " G peak width: 12.79 \n",
      " G peak area: 148373.65 \n",
      "\n"
     ]
    }
   ],
   "source": [
    "print(f'\\n G peak offset: {params2[0][0]:.2f} \\n G peak position: {params2[0][1]:.2f} cm^(-1)\\n G peak width: {params2[0][2]:.2f} \\n G peak area: {params2[0][3]:.2f} \\n')"
   ]
  },
  {
   "cell_type": "code",
   "execution_count": 27,
   "metadata": {},
   "outputs": [],
   "source": [
    "#Fit for the reference spectra of 2D peak\n",
    "\n",
    "x_2D_peak = np.loadtxt('calibrated_axis_900gr_center_at_760nm.dat') #This calibration might be wrong\n",
    "x_2D_peak = rg.convert_nm_to_raman(x_2D_peak, lambda_laser)\n",
    "\n",
    "y_2D_peak_flake2 = np.loadtxt('Raman_suspended_graphene_sample_6_633nm_1mW_900gr_mm_RT_600s_flake_1_center_at_760nm_1.dat')[:,1]"
   ]
  },
  {
   "cell_type": "code",
   "execution_count": 28,
   "metadata": {},
   "outputs": [],
   "source": [
    "plt.plot(x_2D_peak, y_2D_peak_flake2)\n",
    "plt.xlabel('Raman shift (cm^-1)')\n",
    "plt.ylabel('Intensity (a.u.)')\n",
    "plt.title('Raman spectrum of suspended graphene sample 6, flake 2, 2D peak')\n",
    "plt.show()"
   ]
  },
  {
   "cell_type": "code",
   "execution_count": 29,
   "metadata": {},
   "outputs": [],
   "source": [
    "garbage, results_2D_peak, params3 = rg.raman_Gr_fit(x_2D_peak, y_2D_peak_flake2, 2250, omega_2D)\n",
    "rg.plot_raman_fit(garbage, results_2D_peak, params3, x_2D_peak, y_2D_peak_flake2, 'Raman spectrum of suspended graphene sample 6, flake 2, 2D peak', 2250, omega_2D)"
   ]
  },
  {
   "cell_type": "code",
   "execution_count": 30,
   "metadata": {},
   "outputs": [
    {
     "name": "stdout",
     "output_type": "stream",
     "text": [
      "\n",
      " 2D peak offset: 7.30 \n",
      " 2D peak position: 2632.00 cm^(-1)\n",
      " 2D peak width: 13.34 \n",
      " 2D peak area: 850900.11 \n",
      " 2D peak relative area: 0.71 \n",
      " 2D peak shift: 13.05 \n",
      "\n"
     ]
    }
   ],
   "source": [
    "print(f'\\n 2D peak offset: {params3[1][0]:.2f} \\n 2D peak position: {params3[1][1]:.2f} cm^(-1)\\n 2D peak width: {params3[1][2]:.2f} \\n 2D peak area: {params3[1][3]:.2f} \\n 2D peak relative area: {params3[1][4]:.2f} \\n 2D peak shift: {params3[1][5]:.2f} \\n')"
   ]
  }
 ],
 "metadata": {
  "kernelspec": {
   "display_name": "Personal",
   "language": "python",
   "name": "python3"
  },
  "language_info": {
   "codemirror_mode": {
    "name": "ipython",
    "version": 3
   },
   "file_extension": ".py",
   "mimetype": "text/x-python",
   "name": "python",
   "nbconvert_exporter": "python",
   "pygments_lexer": "ipython3",
   "version": "3.12.2"
  }
 },
 "nbformat": 4,
 "nbformat_minor": 2
}
