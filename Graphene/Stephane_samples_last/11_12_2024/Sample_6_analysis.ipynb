{
 "cells": [
  {
   "cell_type": "code",
   "execution_count": 31,
   "metadata": {},
   "outputs": [],
   "source": [
    "import numpy as np\n",
    "import matplotlib.pyplot as plt\n",
    "import sys\n",
    "sys.path.append('../../')\n",
    "import RamanGraphene as rg\n"
   ]
  },
  {
   "cell_type": "code",
   "execution_count": 32,
   "metadata": {},
   "outputs": [],
   "source": [
    "x_axis_300_g = np.loadtxt('calibrated_axis_300gr.dat')\n",
    "\n",
    "lambda_laser = 632.8\n",
    "x_axis_300_g_raman = rg.convert_nm_to_raman(x_axis_300_g, lambda_laser)\n",
    "\n",
    "reference_flake_1 = np.loadtxt('Raman_suspended_graphene_sample_6_633nm_1mW_300gr_mm_RT_300s_flake_1_1.dat')[:,1]\n",
    "map_flake_1 = rg.get_map_data('../09_12_2024/Flake_1/LRVI_H12P1_1-4__2024-12-09_17-25-27_tot.dat')\n",
    "\n",
    "reference_flake_2 = np.loadtxt('Raman_suspended_graphene_sample_6_633nm_1mW_300gr_mm_RT_300s_flake_2_1.dat')[:,1]\n",
    "map_flake_2 = rg.get_map_data('../09_12_2024/Flake_2/LRVI_H12P1_1-4_map2_2024-12-09_19-51-12_tot.dat')\n"
   ]
  },
  {
   "cell_type": "code",
   "execution_count": 3,
   "metadata": {},
   "outputs": [],
   "source": [
    "%matplotlib qt\n",
    "\n",
    "# Visualize raw data\n",
    "plt.plot(x_axis_300_g_raman, reference_flake_1)\n",
    "plt.xlabel('Raman shift (cm^-1)')\n",
    "plt.ylabel('Intensity (a.u.)')\n",
    "plt.title('Raman spectrum of suspended graphene sample 6, flake 1')\n",
    "\n",
    "plt.show()"
   ]
  },
  {
   "cell_type": "code",
   "execution_count": 4,
   "metadata": {},
   "outputs": [],
   "source": [
    "#This cell is to make a file that can be used with the matlab script \n",
    "\n",
    "ones_column = np.ones_like(x_axis_300_g_raman)\n",
    "data_to_save = np.column_stack((x_axis_300_g_raman, ones_column, reference_flake_2))\n",
    "\n",
    "# Save the data to a text file\n",
    "np.savetxt('Reference_sample_6_flake_2.txt', data_to_save, fmt='%.6e', delimiter='\\t')"
   ]
  },
  {
   "cell_type": "code",
   "execution_count": null,
   "metadata": {},
   "outputs": [],
   "source": [
    "%matplotlib qt\n",
    "#Fit for the reference spectrum of sample 6, flake 1\n",
    "\n",
    "omega_G = 1581\n",
    "omega_2D = 2630\n",
    "\n",
    "x_min = 1500\n",
    "x_max = 1850\n",
    "\n",
    "\n",
    "x_ROI = x_axis_300_g_raman[(x_axis_300_g_raman > x_min) & (x_axis_300_g_raman < x_max)]\n",
    "y_ROI = reference_flake_1[(x_axis_300_g_raman > x_min) & (x_axis_300_g_raman < x_max)]\n",
    "\n",
    "results_G, results_2D, params1 = rg.raman_Gr_fit(x_ROI, y_ROI, omega_G, omega_2D)\n",
    "#rg.plot_raman_fit(results_G, results_2D, params1, x_ROI, y_ROI, 'Raman spectrum of suspended graphene sample 6, flake 1', omega_G, omega_2D)"
   ]
  },
  {
   "cell_type": "code",
   "execution_count": 4,
   "metadata": {},
   "outputs": [
    {
     "name": "stdout",
     "output_type": "stream",
     "text": [
      "G peak: \n",
      " off_G = -108.378 ± 11.800 \n",
      " ω_G = 1582.168 ± 0.053 cm⁻¹ \n",
      " Γ_G = 14.749 ± 0.174 cm⁻¹ \n",
      " I_G = 148145.545 ± 1435.341\n",
      "2D peak: \n",
      " off_2D = -30.308 ± 16.960 \n",
      " ω_2D- = 2632.598 ± 0.060 cm⁻¹, ω_2D+ = 2645.616 ± 0.060 cm⁻¹ \n",
      " Γ_2D = 20.940 ± 0.104 cm⁻¹ \n",
      " I_2D = 1135942.034 ± 2708.461 \n",
      " I_2D-/I_2D+ = 2.381 ± 0.005\n"
     ]
    }
   ],
   "source": [
    "rg.print_fit_results(params1, 3)"
   ]
  },
  {
   "cell_type": "code",
   "execution_count": null,
   "metadata": {},
   "outputs": [
    {
     "name": "stdout",
     "output_type": "stream",
     "text": [
      "Clicked at coordinates: (7.82, 5.39)\n",
      "Clicked at indices: (8, 5)\n",
      "Clicked at coordinates: (11.89, 1.32)\n",
      "Clicked at indices: (12, 1)\n",
      "Clicked at coordinates: (10.93, 0.99)\n",
      "Clicked at indices: (11, 1)\n",
      "Clicked at coordinates: (2.02, 3.11)\n",
      "Clicked at indices: (2, 3)\n"
     ]
    }
   ],
   "source": [
    "#Draw the Raman map of sample 6, flake 1\n",
    "\n",
    "omega_G = 1581\n",
    "omega_2D = 2630\n",
    "x_min = 1500\n",
    "x_max = 2790\n",
    "\n",
    "noise, signal = rg.separate_data_noise(map_flake_2)\n",
    "data_map = signal - noise\n",
    "map_size = (15,15)\n",
    "_,_, the_map = rg.make_map(x_axis_300_g_raman, data_map, map_size,x_min, x_max)\n",
    "data_map = data_map / np.max(the_map)\n",
    "\n",
    "\n",
    "plt.rcParams.update({'font.size': 16})\n",
    "rg.draw_map(x_axis_300_g_raman, data_map, map_size, x_min, x_max, '',omega_G, omega_2D)\n",
    "plt.tight_layout()"
   ]
  },
  {
   "cell_type": "code",
   "execution_count": null,
   "metadata": {},
   "outputs": [
    {
     "name": "stdout",
     "output_type": "stream",
     "text": [
      "(15, 15)\n"
     ]
    }
   ],
   "source": []
  },
  {
   "cell_type": "code",
   "execution_count": 23,
   "metadata": {},
   "outputs": [],
   "source": [
    "#Fit for the reference spectra of G peak\n",
    "\n",
    "x_G_peak = np.loadtxt('calibrated_axis_900gr_center_at_700nm.dat')\n",
    "x_G_peak = rg.convert_nm_to_raman(x_G_peak, lambda_laser)\n",
    "\n",
    "y_G_peak_flake2 = np.loadtxt('Raman_suspended_graphene_sample_6_633nm_1mW_900gr_mm_RT_600s_flake_1_center_at_700nm_1.dat')[:,1]"
   ]
  },
  {
   "cell_type": "code",
   "execution_count": 24,
   "metadata": {},
   "outputs": [],
   "source": [
    "#Plot raw data for G peak\n",
    "\n",
    "plt.plot(x_G_peak, y_G_peak_flake2)\n",
    "plt.xlabel('Raman shift (cm^-1)')\n",
    "plt.ylabel('Intensity (a.u.)')\n",
    "plt.title('Raman spectrum of suspended graphene sample 6, flake 2, G peak')\n",
    "plt.show()"
   ]
  },
  {
   "cell_type": "code",
   "execution_count": 25,
   "metadata": {},
   "outputs": [],
   "source": [
    "results_G_peak, garbage, params2 = rg.raman_Gr_fit(x_G_peak, y_G_peak_flake2, omega_G, 1900)\n",
    "rg.plot_raman_fit(results_G_peak, garbage, params2, x_G_peak, y_G_peak_flake2, 'Raman spectrum of suspended graphene sample 6, flake 2, G peak', omega_G, 1900)"
   ]
  },
  {
   "cell_type": "code",
   "execution_count": 26,
   "metadata": {},
   "outputs": [
    {
     "name": "stdout",
     "output_type": "stream",
     "text": [
      "\n",
      " G peak offset: -63.65 \n",
      " G peak position: 1582.14 cm^(-1)\n",
      " G peak width: 12.79 \n",
      " G peak area: 148373.65 \n",
      "\n"
     ]
    }
   ],
   "source": [
    "print(f'\\n G peak offset: {params2[0][0]:.2f} \\n G peak position: {params2[0][1]:.2f} cm^(-1)\\n G peak width: {params2[0][2]:.2f} \\n G peak area: {params2[0][3]:.2f} \\n')"
   ]
  },
  {
   "cell_type": "code",
   "execution_count": 27,
   "metadata": {},
   "outputs": [],
   "source": [
    "#Fit for the reference spectra of 2D peak\n",
    "\n",
    "x_2D_peak = np.loadtxt('calibrated_axis_900gr_center_at_760nm.dat') #This calibration might be wrong\n",
    "x_2D_peak = rg.convert_nm_to_raman(x_2D_peak, lambda_laser)\n",
    "\n",
    "y_2D_peak_flake2 = np.loadtxt('Raman_suspended_graphene_sample_6_633nm_1mW_900gr_mm_RT_600s_flake_1_center_at_760nm_1.dat')[:,1]"
   ]
  },
  {
   "cell_type": "code",
   "execution_count": 28,
   "metadata": {},
   "outputs": [],
   "source": [
    "plt.plot(x_2D_peak, y_2D_peak_flake2)\n",
    "plt.xlabel('Raman shift (cm^-1)')\n",
    "plt.ylabel('Intensity (a.u.)')\n",
    "plt.title('Raman spectrum of suspended graphene sample 6, flake 2, 2D peak')\n",
    "plt.show()"
   ]
  },
  {
   "cell_type": "code",
   "execution_count": 29,
   "metadata": {},
   "outputs": [],
   "source": [
    "garbage, results_2D_peak, params3 = rg.raman_Gr_fit(x_2D_peak, y_2D_peak_flake2, 2250, omega_2D)\n",
    "rg.plot_raman_fit(garbage, results_2D_peak, params3, x_2D_peak, y_2D_peak_flake2, 'Raman spectrum of suspended graphene sample 6, flake 2, 2D peak', 2250, omega_2D)"
   ]
  },
  {
   "cell_type": "code",
   "execution_count": 30,
   "metadata": {},
   "outputs": [
    {
     "name": "stdout",
     "output_type": "stream",
     "text": [
      "\n",
      " 2D peak offset: 7.30 \n",
      " 2D peak position: 2632.00 cm^(-1)\n",
      " 2D peak width: 13.34 \n",
      " 2D peak area: 850900.11 \n",
      " 2D peak relative area: 0.71 \n",
      " 2D peak shift: 13.05 \n",
      "\n"
     ]
    }
   ],
   "source": [
    "print(f'\\n 2D peak offset: {params3[1][0]:.2f} \\n 2D peak position: {params3[1][1]:.2f} cm^(-1)\\n 2D peak width: {params3[1][2]:.2f} \\n 2D peak area: {params3[1][3]:.2f} \\n 2D peak relative area: {params3[1][4]:.2f} \\n 2D peak shift: {params3[1][5]:.2f} \\n')"
   ]
  }
 ],
 "metadata": {
  "kernelspec": {
   "display_name": "Personal",
   "language": "python",
   "name": "python3"
  },
  "language_info": {
   "codemirror_mode": {
    "name": "ipython",
    "version": 3
   },
   "file_extension": ".py",
   "mimetype": "text/x-python",
   "name": "python",
   "nbconvert_exporter": "python",
   "pygments_lexer": "ipython3",
   "version": "3.12.2"
  }
 },
 "nbformat": 4,
 "nbformat_minor": 2
}
