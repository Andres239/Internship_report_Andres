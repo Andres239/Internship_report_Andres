{
 "cells": [
  {
   "cell_type": "code",
   "execution_count": 1,
   "metadata": {},
   "outputs": [],
   "source": [
    "import numpy as np\n",
    "import matplotlib.pyplot as plt\n",
    "import sys\n",
    "sys.path.append('../../')\n",
    "import RamanGraphene as rg\n"
   ]
  },
  {
   "cell_type": "code",
   "execution_count": 2,
   "metadata": {},
   "outputs": [],
   "source": [
    "x_axis_300_g = np.loadtxt('calibrated_axis_300gr.dat')\n",
    "\n",
    "lambda_laser = 632.8\n",
    "x_axis_300_g_raman = rg.convert_nm_to_raman(x_axis_300_g, lambda_laser)\n",
    "\n",
    "reference_flake_1 = np.loadtxt('Raman_suspended_graphene_sample_6_633nm_1mW_300gr_mm_RT_300s_flake_1_1.dat')[:,1]\n",
    "map_flake_1 = rg.get_map_data('../09_12_2024/Flake_1/LRVI_H12P1_1-4__2024-12-09_17-25-27_tot.dat')\n",
    "\n",
    "reference_flake_2 = np.loadtxt('Raman_suspended_graphene_sample_6_633nm_1mW_300gr_mm_RT_300s_flake_2_1.dat')[:,1]\n",
    "map_flake_2 = rg.get_map_data('../09_12_2024/Flake_2/LRVI_H12P1_1-4_map2_2024-12-09_19-51-12_tot.dat')\n",
    "\n",
    "omega_G = 1581\n",
    "omega_2D = 2630"
   ]
  },
  {
   "cell_type": "code",
   "execution_count": 8,
   "metadata": {},
   "outputs": [],
   "source": [
    "#Example plot for the intro\n",
    "%matplotlib qt\n",
    "x_example, y_example = rg.select_range(x_axis_300_g_raman, reference_flake_1, 1400, 2900)\n",
    "x_example, y_example = rg.remove_offset(x_example, y_example, 10)\n",
    "\n",
    "pos_G, pos_D, pos_2D = 1581.6, 2460.0, 2633.3\n",
    "\n",
    "plt.figure(figsize=(9, 6))\n",
    "plt.plot(x_example, y_example / np.max(y_example), linewidth=2.5)\n",
    "plt.axvline(x=pos_G, color='gray', linestyle='--')\n",
    "plt.axvline(x=pos_D, color='gray', linestyle='--')\n",
    "plt.axvline(x=pos_2D, color='gray', linestyle='--')\n",
    "\n",
    "plt.text(pos_G, 1.21, 'G', ha='center', va='bottom', color='black', fontsize=20)\n",
    "plt.text(pos_D, 1.21, 'D+D\"', ha='center', va='bottom', color='black', fontsize=20)\n",
    "plt.text(pos_2D, 1.21, '2D', ha='center', va='bottom', color='black', fontsize=20)\n",
    "\n",
    "plt.xlabel('Raman shift (cm$^{-1}$)', fontsize=20)\n",
    "plt.xticks(fontsize=17)\n",
    "plt.yticks(fontsize=17)\n",
    "plt.ylabel('Intensity (a.u.)', fontsize=20)\n",
    "\n",
    "plt.ylim(-0.04, 1.19)\n",
    "\n",
    "plt.savefig('../../Figures/Graphene_Raman_Spectrum_example.pdf')\n",
    "plt.show()\n"
   ]
  },
  {
   "cell_type": "code",
   "execution_count": 10,
   "metadata": {},
   "outputs": [],
   "source": [
    "#Fit for the reference spectrum of sample 6, flake 1\n",
    "\n",
    "x_min = 1400\n",
    "x_max = 2800\n",
    "\n",
    "x_ROI = x_axis_300_g_raman[(x_axis_300_g_raman > x_min) & (x_axis_300_g_raman < x_max)]\n",
    "y_ROI = reference_flake_1[(x_axis_300_g_raman > x_min) & (x_axis_300_g_raman < x_max)]\n",
    "\n",
    "results_G, results_2D, params1 = rg.raman_Gr_fit(x_ROI, y_ROI, omega_G, omega_2D)"
   ]
  },
  {
   "cell_type": "code",
   "execution_count": 13,
   "metadata": {},
   "outputs": [
    {
     "name": "stdout",
     "output_type": "stream",
     "text": [
      "G peak: \n",
      " off_G = -108.378 ± 11.800 \n",
      " ω_G = 1582.168 ± 0.053 cm⁻¹ \n",
      " Γ_G = 14.749 ± 0.174 cm⁻¹ \n",
      " I_G = 148145.545 ± 1435.341\n",
      "2D peak: \n",
      " off_2D = -30.308 ± 16.960 \n",
      " ω_2D- = 2632.598 ± 0.060 cm⁻¹, ω_2D+ = 2645.616 ± 0.060 cm⁻¹ \n",
      " Γ_2D = 20.940 ± 0.104 cm⁻¹ \n",
      " I_2D = 1135942.034 ± 2708.461 \n",
      " I_2D-/I_2D+ = 2.381 ± 0.005\n"
     ]
    }
   ],
   "source": [
    "rg.print_fit_results(params1, 3)"
   ]
  },
  {
   "cell_type": "code",
   "execution_count": 12,
   "metadata": {},
   "outputs": [],
   "source": [
    "x_plot_G = np.linspace(min(results_G[:,0]), max(results_G[:,0]), 1000)\n",
    "y_plot_G = rg.lorentzian(x_plot_G, params1[0][0], params1[0][1], params1[0][2], params1[0][3])"
   ]
  },
  {
   "cell_type": "code",
   "execution_count": 25,
   "metadata": {},
   "outputs": [
    {
     "name": "stderr",
     "output_type": "stream",
     "text": [
      "<>:18: SyntaxWarning: invalid escape sequence '\\o'\n",
      "<>:19: SyntaxWarning: invalid escape sequence '\\G'\n",
      "<>:18: SyntaxWarning: invalid escape sequence '\\o'\n",
      "<>:19: SyntaxWarning: invalid escape sequence '\\G'\n",
      "/tmp/ipykernel_18409/3104485211.py:18: SyntaxWarning: invalid escape sequence '\\o'\n",
      "  ax2.text(0.05, 0.95, f'$\\omega_G$: {params1[0][1]:.2f} cm$^{-1}$\\n'\n",
      "/tmp/ipykernel_18409/3104485211.py:19: SyntaxWarning: invalid escape sequence '\\G'\n",
      "  f'$\\Gamma_G$: {params1[0][2]:.2f} cm$^{-1}$\\n',\n"
     ]
    }
   ],
   "source": [
    "#Plot for the fit of the reference spectrum of sample 6, flake 1, G peak\n",
    "%matplotlib qt\n",
    "\n",
    "plt.rcParams.update({'font.size': 18})\n",
    "fig, (ax1, ax2) = plt.subplots(2, 1, figsize=(8, 10))\n",
    "\n",
    "# Plot for the fit of the reference spectrum of sample 6, flake 1, G peak\n",
    "ax1.scatter(results_G[:,0], results_G[:,1], label='Data', color='k')\n",
    "ax1.plot(x_plot_G, y_plot_G, color='red', label='Lorentzian Fit')\n",
    "ax1.set_xlabel('Raman shift (cm$^{-1}$)')\n",
    "ax1.set_ylabel('Intensity (a.u.)')\n",
    "ax1.legend(['Data', 'Lorentzian fit'])\n",
    "\n",
    "# Plot of the residuals for the fit of the reference spectrum of sample 6, flake 1, G peak\n",
    "ax2.plot(results_G[:,0], (results_G[:,2]-results_G[:,1]) / rg.find_x0_y0(results_G[:,0], results_G[:,1], omega_G)[1])\n",
    "ax2.set_xlabel('Raman shift (cm$^{-1}$)')\n",
    "ax2.set_ylabel('Residuals / (Max. Intensity)')\n",
    "ax2.text(0.05, 0.95, f'$\\omega_G$: {params1[0][1]:.2f} cm$^{-1}$\\n'\n",
    "                    f'$\\Gamma_G$: {params1[0][2]:.2f} cm$^{-1}$\\n',\n",
    "         transform=ax2.transAxes, verticalalignment='top')\n",
    "\n",
    "\n",
    "plt.tight_layout()\n",
    "plt.savefig('../../Figures/Flake_1_G_peak.pdf')\n",
    "plt.show()"
   ]
  },
  {
   "cell_type": "code",
   "execution_count": 30,
   "metadata": {},
   "outputs": [],
   "source": [
    "x_plot_2D = np.linspace(min(results_2D[:,0]), max(results_2D[:,0]), 1000)\n",
    "y_plot_2D_0 = rg.db_basko(x_plot_2D, params1[1][0], params1[1][1], params1[1][2], params1[1][3], params1[1][4], params1[1][5])\n",
    "y_plot_2D_1 = rg.basko(x_plot_2D, params1[1][0], params1[1][1], params1[1][2], params1[1][3] * params1[1][4])\n",
    "y_plot_2D_2 = rg.basko(x_plot_2D, params1[1][0], params1[1][1] + params1[1][5], params1[1][2], params1[1][3]*(1 - params1[1][4]))\n"
   ]
  },
  {
   "cell_type": "code",
   "execution_count": 45,
   "metadata": {},
   "outputs": [],
   "source": [
    "#Plot for the fit of the reference spectrum of sample 6, flake 1, 2D peak\n",
    "plt.rcParams.update({'font.size': 18})\n",
    "\n",
    "fig, (ax1, ax2) = plt.subplots(2, 1, figsize=(9,10))\n",
    "\n",
    "ax1.scatter(results_2D[:,0], results_2D[:,1], label = 'Data', color = 'k')\n",
    "ax1.plot(x_plot_2D, y_plot_2D_0, color='red', label='Mod. Lorentzian Fit')\n",
    "ax1.plot(x_plot_2D, y_plot_2D_1, color='green', label = r'$2D_+$ subfeature')\n",
    "ax1.plot(x_plot_2D, y_plot_2D_2, color='blue', label = r'$2D_-$ subfeature')\n",
    "ax1.set_xlabel('Raman shift (cm$^{-1}$)')\n",
    "ax1.set_ylabel('Intensity (a.u.)')\n",
    "ax1.legend()\n",
    "\n",
    "ax2.plot(results_2D[:,0], (results_2D[:,2] - results_2D[:,1]) / rg.find_x0_y0(results_2D[:,0], results_2D[:,1], omega_2D)[1])\n",
    "ax2.set_xlabel(r'Raman shift ($cm^{-1}$)')\n",
    "ax2.set_ylabel('Residuals / (Max. Intensity)')\n",
    "ax2.text(0.05, 0.95, r'$\\omega_{2D}$:'f' {params1[1][1]:.2f} cm$^{-1}$\\n'\n",
    "                    r'$\\Gamma_{2D}$:'f' {2 * np.sqrt(2 ** (2 / 3) - 1) * params1[1][2]:.2f} cm$^{-1}$\\n',\n",
    "         transform=ax2.transAxes, verticalalignment='top')\n",
    "plt.tight_layout()\n",
    "plt.savefig('../../Figures/Flake_1_2D_peak.pdf')\n",
    "plt.show()"
   ]
  },
  {
   "cell_type": "code",
   "execution_count": 32,
   "metadata": {},
   "outputs": [
    {
     "name": "stderr",
     "output_type": "stream",
     "text": [
      "/home/andres-rodriguez/TdG/Graphene/Stephane_samples_last/11_12_2024/../../RamanGraphene.py:98: OptimizeWarning: Covariance of the parameters could not be estimated\n",
      "  popt_DB_Basko, _ = curve_fit(db_basko, x2D, y2D, p0_2D)\n"
     ]
    }
   ],
   "source": [
    "#Fitting the whole map\n",
    "params_map_G = []\n",
    "params_map_2D = []\n",
    "for i in range(np.shape(map_flake_1)[1]):\n",
    "    try:\n",
    "        tmp1, tmp2, tmp_params = rg.raman_Gr_fit(x_axis_300_g_raman, map_flake_1[:,i], omega_G, omega_2D)\n",
    "\n",
    "        params_map_G.append(tmp_params[0])\n",
    "        params_map_2D.append(tmp_params[1])\n",
    "    except:\n",
    "        pass\n",
    "\n",
    "params_map_G = np.array(params_map_G)\n",
    "params_map_2D = np.array(params_map_2D)"
   ]
  },
  {
   "cell_type": "code",
   "execution_count": 33,
   "metadata": {},
   "outputs": [],
   "source": [
    "%matplotlib qt\n",
    "\n",
    "#G vs 2D peak position\n",
    "plt.plot(params_map_G[:,1], params_map_2D[:,1], 'o')\n",
    "plt.title('Sample 6, flake 1: 2D vs G peak position', fontsize=20)\n",
    "plt.xlabel('G peak position (cm$^{-1}$)', fontsize=14)\n",
    "plt.ylabel('2D peak position (cm$^{-1}$)', fontsize=14)\n",
    "plt.show()\n"
   ]
  }
 ],
 "metadata": {
  "kernelspec": {
   "display_name": "Personal",
   "language": "python",
   "name": "python3"
  },
  "language_info": {
   "codemirror_mode": {
    "name": "ipython",
    "version": 3
   },
   "file_extension": ".py",
   "mimetype": "text/x-python",
   "name": "python",
   "nbconvert_exporter": "python",
   "pygments_lexer": "ipython3",
   "version": "3.12.2"
  }
 },
 "nbformat": 4,
 "nbformat_minor": 2
}
